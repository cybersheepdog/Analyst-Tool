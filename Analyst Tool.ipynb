{
 "cells": [
  {
   "cell_type": "markdown",
   "id": "c045d392",
   "metadata": {},
   "source": [
    "## Get Analysis Results"
   ]
  },
  {
   "cell_type": "code",
   "execution_count": null,
   "id": "7204f129",
   "metadata": {},
   "outputs": [],
   "source": [
    "from analyst import *\n",
    "analyst()"
   ]
  }
 ],
 "metadata": {
  "kernelspec": {
   "display_name": "Python 3",
   "language": "python",
   "name": "python3"
  },
  "language_info": {
   "codemirror_mode": {
    "name": "ipython",
    "version": 3
   },
   "file_extension": ".py",
   "mimetype": "text/x-python",
   "name": "python",
   "nbconvert_exporter": "python",
   "pygments_lexer": "ipython3",
   "version": "3.6.8"
  }
 },
 "nbformat": 4,
 "nbformat_minor": 5
}
